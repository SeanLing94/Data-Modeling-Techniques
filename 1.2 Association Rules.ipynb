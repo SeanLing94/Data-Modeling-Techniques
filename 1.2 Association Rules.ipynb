{
 "cells": [
  {
   "cell_type": "markdown",
   "metadata": {},
   "source": [
    "The association rule for data mining is discovering which data characteristics \"go together\", which means that if a particular attribute appears, the other attribute(s) also occurs with specific values. A common form of this application is called market basket analysis, and the association aims to uncover rules for quantifying the relationship between two or more attributes.\n",
    "\n",
    "In short, association rules explain data in the formation of: \n",
    "\n",
    "                 Antecedent ⇒ Consequent \n",
    "Which implies, \"IF antecedent THEN consequent.\" "
   ]
  },
  {
   "cell_type": "markdown",
   "metadata": {},
   "source": [
    "To practically apply the Apriori Algorithm concept, we use an example dataset containing retail transactions to demonstrate the implementation.  The dataset has four attributes representing the length and width of three species' sepals and petals: Setosa, Virginica, and Versicolor. \n",
    "\n",
    "Use the following Python codes to access the retail transaction dataset fretail.xlsx (attached) located in the /data/ folder. The first few lines of Python codes are meant to ignore any warning messages."
   ]
  },
  {
   "cell_type": "code",
   "execution_count": 1,
   "metadata": {},
   "outputs": [],
   "source": [
    "# ignore all warning messages\n",
    "import warnings\n",
    "warnings.filterwarnings('ignore')\n",
    "def warn(*args, **kwargs):\n",
    "    pass\n",
    "warnings.warn = warn\n",
    "\n",
    "# access retail dataset \n",
    "import pandas as pd\n",
    "df = pd.read_excel('fretail.xlsx')"
   ]
  },
  {
   "cell_type": "markdown",
   "metadata": {},
   "source": [
    "We then need to select the attributes and set the data types correctly for further processing by the Apriori algorithm later. In this example, the Description and InvoiceNo attributes contain the items and invoice numbers of transactions that bear the transaction items. Based on the concept of Apriori Algorithms for market basket analysis, we need these two attributes' information to form the dataset for further analysis."
   ]
  },
  {
   "cell_type": "code",
   "execution_count": 2,
   "metadata": {},
   "outputs": [],
   "source": [
    "# set the attributes and data types for asosciation rules analysis\n",
    "df[\"Description\"] = df[\"Description\"].astype(str)\n",
    "df[\"InvoiceNo\"] = df[\"InvoiceNo\"].astype(str)"
   ]
  },
  {
   "cell_type": "markdown",
   "metadata": {},
   "source": [
    "To calculate the frequency of each item in a transaction, we use the sum() function to count to frequency and group by invoice number representing a transaction. "
   ]
  },
  {
   "cell_type": "code",
   "execution_count": 3,
   "metadata": {},
   "outputs": [],
   "source": [
    "# calculate total item quantity of an InvoiceNo \n",
    "df = df.groupby([\"InvoiceNo\",\"Description\"])[\"Quantity\"].sum()"
   ]
  },
  {
   "cell_type": "markdown",
   "metadata": {},
   "source": [
    "After counting the frequency of each item in each transaction in the dataset, the structure requires a reshaping to capture the frequency of all the items within the dataset matching each transaction. Those items not appearing in a particular transaction will have a NULL frequency. We can use the unstack() function to realize the structure reshape.\n",
    "For those items that do not have any quantity (i.e., frequency), replace them with the value 0 using the fillna() function.  "
   ]
  },
  {
   "cell_type": "code",
   "execution_count": 4,
   "metadata": {},
   "outputs": [],
   "source": [
    "# to restrucutre the shape of dataset\n",
    "df = df.unstack()\n",
    "\n",
    "# to replace null with 0 value\n",
    "df = df.fillna(0)"
   ]
  },
  {
   "cell_type": "markdown",
   "metadata": {},
   "source": [
    "The concept of Apriori algorithms only concerns if an item occurs (i.e., becomes a binary value of either 0 or 1) in a transaction instead of the number of occurrences; therefore, we convert the value to 1 if the occurrence is more or equal to 1, else 0 using the applymap() function."
   ]
  },
  {
   "cell_type": "code",
   "execution_count": 5,
   "metadata": {},
   "outputs": [],
   "source": [
    "# assign values to binary either 1 or 0\n",
    "def reduce_to_binary(qty) : \n",
    "    if qty >= 1 :\n",
    "        return 1\n",
    "    if qty <= 0 :\n",
    "        return 0\n",
    "df = df.applymap(reduce_to_binary)"
   ]
  },
  {
   "cell_type": "markdown",
   "metadata": {},
   "source": [
    "Once the dataset format is processed to suit the Apriori Algorithms, we can perform the Association Rules method for data modeling. The following Python codes show examples of how we can implement an Apriori Algorithm for the Association Rules method using the Apriori library's association_rules() function. \n",
    "\n",
    "In this example, we user-defined the minsup = 0.1 as the measure threshold for generating frequent itemsets. We specify the columns to observe a rule, including the antecedents, consequent, support, confidence and lift. The result of the frequent itemsets is sorted by the lift measure descendingly."
   ]
  },
  {
   "cell_type": "code",
   "execution_count": 6,
   "metadata": {},
   "outputs": [
    {
     "name": "stdout",
     "output_type": "stream",
     "text": [
      "                              antecedents  \\\n",
      "13        (SET/6 RED SPOTTY PAPER PLATES)   \n",
      "12          (SET/6 RED SPOTTY PAPER CUPS)   \n",
      "10                              (POSTAGE)   \n",
      "11  (ROUND SNACK BOXES SET OF4 WOODLAND )   \n",
      "2                               (POSTAGE)   \n",
      "3        (PLASTERS IN TIN CIRCUS PARADE )   \n",
      "6                               (POSTAGE)   \n",
      "7                    (RABBIT NIGHT LIGHT)   \n",
      "8                               (POSTAGE)   \n",
      "9         (RED TOADSTOOL LED NIGHT LIGHT)   \n",
      "4                               (POSTAGE)   \n",
      "5      (PLASTERS IN TIN WOODLAND ANIMALS)   \n",
      "0                               (POSTAGE)   \n",
      "1               (LUNCH BAG RED RETROSPOT)   \n",
      "\n",
      "                              consequents   support  confidence      lift  \n",
      "13          (SET/6 RED SPOTTY PAPER CUPS)  0.104121    0.960000  8.195556  \n",
      "12        (SET/6 RED SPOTTY PAPER PLATES)  0.104121    0.888889  8.195556  \n",
      "10  (ROUND SNACK BOXES SET OF4 WOODLAND )  0.125813    0.193333  1.437527  \n",
      "11                              (POSTAGE)  0.125813    0.935484  1.437527  \n",
      "2        (PLASTERS IN TIN CIRCUS PARADE )  0.125813    0.193333  1.350404  \n",
      "3                               (POSTAGE)  0.125813    0.878788  1.350404  \n",
      "6                    (RABBIT NIGHT LIGHT)  0.140998    0.216667  1.349775  \n",
      "7                               (POSTAGE)  0.140998    0.878378  1.349775  \n",
      "8         (RED TOADSTOOL LED NIGHT LIGHT)  0.134490    0.206667  1.341878  \n",
      "9                               (POSTAGE)  0.134490    0.873239  1.341878  \n",
      "4      (PLASTERS IN TIN WOODLAND ANIMALS)  0.117137    0.180000  1.238507  \n",
      "5                               (POSTAGE)  0.117137    0.805970  1.238507  \n",
      "0               (LUNCH BAG RED RETROSPOT)  0.104121    0.160000  1.229333  \n",
      "1                               (POSTAGE)  0.104121    0.800000  1.229333  \n"
     ]
    }
   ],
   "source": [
    "from mlxtend.frequent_patterns import apriori\n",
    "from mlxtend.frequent_patterns import association_rules\n",
    "\n",
    "# specify minsup = 0.07 to generte frequent itemsets\n",
    "frequent_items = apriori(df, min_support=0.1, use_colnames=True)\n",
    "\n",
    "# perform association rules modeling\n",
    "rules = association_rules(frequent_items, metric=\"lift\", min_threshold=1)\n",
    "\n",
    "# select columns to observe a rule that containing frequent itemsets\n",
    "rules = rules[['antecedents','consequents', 'support','confidence','lift']]\n",
    "\n",
    "# sort rules by lift measure\n",
    "rules = rules.sort_values(by = [\"lift\"],ascending=False)\n",
    "\n",
    "# print the rules that contian frequent itemsets with threshold of minsup = 0.1\n",
    "print(rules)"
   ]
  },
  {
   "cell_type": "markdown",
   "metadata": {},
   "source": [
    "After running the above codes, we can observe from the print(rules) result in Figure 11 that there are 14 rules with frequent itemsets that satisfy the minsup = 0.1 threshold. \n",
    "\n",
    "\n",
    "Once we have the list of rules containing frequent itemsets, we can use other measures such as Support, Confidence, and Lift to generate useful rules. The following example codes expect a threshold of Lift >=5, Confidence >= 0.9, and Support >=0.1. "
   ]
  },
  {
   "cell_type": "markdown",
   "metadata": {},
   "source": [
    "fter applying a tighter threshold for the measures above, we observe that only two rules qualified as useful rules that satisfy the threshold requirements, as shown in Figure 12.\n",
    "\n",
    "The rule generated from the example retail transaction dataset in Figure 12 implies the following:\n",
    "\n",
    "-10.4% percent of total transactions contain both itemsets (SET/6 RED SPOTTY PAPER PLATES) and  (SET/6 RED SPOTTY PAPER CUPS). \n",
    "\n",
    "-96.0% percent chance someone will buy (SET/6 RED SPOTTY PAPER CUPS) when they picked (SET/6 RED SPOTTY PAPER PLATES). \n",
    "\n",
    "-There is an 8.96 times increase in the expectation that someone will buy (SET/6 RED SPOTTY PAPER CUPS) when we know they bought (SET/6 RED SPOTTY PAPER PLATES)."
   ]
  }
 ],
 "metadata": {
  "kernelspec": {
   "display_name": "Python 3",
   "language": "python",
   "name": "python3"
  },
  "language_info": {
   "codemirror_mode": {
    "name": "ipython",
    "version": 3
   },
   "file_extension": ".py",
   "mimetype": "text/x-python",
   "name": "python",
   "nbconvert_exporter": "python",
   "pygments_lexer": "ipython3",
   "version": "3.10.8"
  }
 },
 "nbformat": 4,
 "nbformat_minor": 2
}
